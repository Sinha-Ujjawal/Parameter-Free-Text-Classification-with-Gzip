{
 "cells": [
  {
   "cell_type": "code",
   "execution_count": 24,
   "metadata": {},
   "outputs": [],
   "source": [
    "import pandas as pd\n",
    "import gzip\n",
    "from sklearn.model_selection import train_test_split\n",
    "import gzip_knn_classifier as gkc"
   ]
  },
  {
   "cell_type": "code",
   "execution_count": 12,
   "metadata": {},
   "outputs": [],
   "source": [
    "df_data = (\n",
    "    pd.read_csv(\n",
    "        \"./data/Ecommerce Text Classification.csv\",\n",
    "        header=None,\n",
    "        encoding=\"iso-8859-1\",\n",
    "    )\n",
    "    .dropna()\n",
    ")"
   ]
  },
  {
   "cell_type": "code",
   "execution_count": 13,
   "metadata": {},
   "outputs": [
    {
     "data": {
      "text/plain": [
       "(50424, 2)"
      ]
     },
     "execution_count": 13,
     "metadata": {},
     "output_type": "execute_result"
    }
   ],
   "source": [
    "df_data.shape"
   ]
  },
  {
   "cell_type": "code",
   "execution_count": 14,
   "metadata": {},
   "outputs": [
    {
     "data": {
      "text/html": [
       "<div>\n",
       "<style scoped>\n",
       "    .dataframe tbody tr th:only-of-type {\n",
       "        vertical-align: middle;\n",
       "    }\n",
       "\n",
       "    .dataframe tbody tr th {\n",
       "        vertical-align: top;\n",
       "    }\n",
       "\n",
       "    .dataframe thead th {\n",
       "        text-align: right;\n",
       "    }\n",
       "</style>\n",
       "<table border=\"1\" class=\"dataframe\">\n",
       "  <thead>\n",
       "    <tr style=\"text-align: right;\">\n",
       "      <th></th>\n",
       "      <th>class_label</th>\n",
       "      <th>text</th>\n",
       "    </tr>\n",
       "  </thead>\n",
       "  <tbody>\n",
       "    <tr>\n",
       "      <th>0</th>\n",
       "      <td>Household</td>\n",
       "      <td>Paper Plane Design Framed Wall Hanging Motivat...</td>\n",
       "    </tr>\n",
       "    <tr>\n",
       "      <th>1</th>\n",
       "      <td>Household</td>\n",
       "      <td>SAF 'Floral' Framed Painting (Wood, 30 inch x ...</td>\n",
       "    </tr>\n",
       "    <tr>\n",
       "      <th>2</th>\n",
       "      <td>Household</td>\n",
       "      <td>SAF 'UV Textured Modern Art Print Framed' Pain...</td>\n",
       "    </tr>\n",
       "    <tr>\n",
       "      <th>3</th>\n",
       "      <td>Household</td>\n",
       "      <td>SAF Flower Print Framed Painting (Synthetic, 1...</td>\n",
       "    </tr>\n",
       "    <tr>\n",
       "      <th>4</th>\n",
       "      <td>Household</td>\n",
       "      <td>Incredible Gifts India Wooden Happy Birthday U...</td>\n",
       "    </tr>\n",
       "  </tbody>\n",
       "</table>\n",
       "</div>"
      ],
      "text/plain": [
       "  class_label                                               text\n",
       "0   Household  Paper Plane Design Framed Wall Hanging Motivat...\n",
       "1   Household  SAF 'Floral' Framed Painting (Wood, 30 inch x ...\n",
       "2   Household  SAF 'UV Textured Modern Art Print Framed' Pain...\n",
       "3   Household  SAF Flower Print Framed Painting (Synthetic, 1...\n",
       "4   Household  Incredible Gifts India Wooden Happy Birthday U..."
      ]
     },
     "execution_count": 14,
     "metadata": {},
     "output_type": "execute_result"
    }
   ],
   "source": [
    "df_data.columns = [\"class_label\", \"text\"]\n",
    "df_data.head()"
   ]
  },
  {
   "cell_type": "code",
   "execution_count": 15,
   "metadata": {},
   "outputs": [
    {
     "data": {
      "text/plain": [
       "class_label\n",
       "Books                     11820\n",
       "Clothing & Accessories     8670\n",
       "Electronics               10621\n",
       "Household                 19313\n",
       "dtype: int64"
      ]
     },
     "execution_count": 15,
     "metadata": {},
     "output_type": "execute_result"
    }
   ],
   "source": [
    "(\n",
    "    df_data\n",
    "    .groupby(\"class_label\")\n",
    "    .size()\n",
    ")"
   ]
  },
  {
   "cell_type": "code",
   "execution_count": 16,
   "metadata": {},
   "outputs": [],
   "source": [
    "df_data[\"text_bytes\"] = (\n",
    "    df_data[\"text\"]\n",
    "    .str.strip()\n",
    "    .str.lower()\n",
    "    .str.encode(\"iso-8859-1\")\n",
    "    .apply(gzip.compress)\n",
    ")"
   ]
  },
  {
   "cell_type": "code",
   "execution_count": 17,
   "metadata": {},
   "outputs": [],
   "source": [
    "class_labels_to_idx = {\n",
    "    class_label: idx\n",
    "    for idx, class_label in enumerate(df_data[\"class_label\"].unique())\n",
    "}\n",
    "\n",
    "idx_to_class_label = {\n",
    "    idx: class_label\n",
    "    for class_label, idx in class_labels_to_idx.items()\n",
    "}\n",
    "\n",
    "df_data[\"class_label_idx\"] = df_data[\"class_label\"].apply(class_labels_to_idx.get)"
   ]
  },
  {
   "cell_type": "code",
   "execution_count": 18,
   "metadata": {},
   "outputs": [
    {
     "data": {
      "text/html": [
       "<div>\n",
       "<style scoped>\n",
       "    .dataframe tbody tr th:only-of-type {\n",
       "        vertical-align: middle;\n",
       "    }\n",
       "\n",
       "    .dataframe tbody tr th {\n",
       "        vertical-align: top;\n",
       "    }\n",
       "\n",
       "    .dataframe thead th {\n",
       "        text-align: right;\n",
       "    }\n",
       "</style>\n",
       "<table border=\"1\" class=\"dataframe\">\n",
       "  <thead>\n",
       "    <tr style=\"text-align: right;\">\n",
       "      <th></th>\n",
       "      <th>class_label</th>\n",
       "      <th>text</th>\n",
       "      <th>text_bytes</th>\n",
       "      <th>class_label_idx</th>\n",
       "    </tr>\n",
       "  </thead>\n",
       "  <tbody>\n",
       "    <tr>\n",
       "      <th>0</th>\n",
       "      <td>Household</td>\n",
       "      <td>Paper Plane Design Framed Wall Hanging Motivat...</td>\n",
       "      <td>b'\\x1f\\x8b\\x08\\x00C\\xbd\\xa3e\\x02\\xff]T[\\x8e\\xd...</td>\n",
       "      <td>0</td>\n",
       "    </tr>\n",
       "    <tr>\n",
       "      <th>1</th>\n",
       "      <td>Household</td>\n",
       "      <td>SAF 'Floral' Framed Painting (Wood, 30 inch x ...</td>\n",
       "      <td>b'\\x1f\\x8b\\x08\\x00C\\xbd\\xa3e\\x02\\xffE\\x8f\\xddn...</td>\n",
       "      <td>0</td>\n",
       "    </tr>\n",
       "    <tr>\n",
       "      <th>2</th>\n",
       "      <td>Household</td>\n",
       "      <td>SAF 'UV Textured Modern Art Print Framed' Pain...</td>\n",
       "      <td>b\"\\x1f\\x8b\\x08\\x00C\\xbd\\xa3e\\x02\\xff\\xadT\\xd1n...</td>\n",
       "      <td>0</td>\n",
       "    </tr>\n",
       "    <tr>\n",
       "      <th>3</th>\n",
       "      <td>Household</td>\n",
       "      <td>SAF Flower Print Framed Painting (Synthetic, 1...</td>\n",
       "      <td>b'\\x1f\\x8b\\x08\\x00C\\xbd\\xa3e\\x02\\xff\\xadTKn\\xd...</td>\n",
       "      <td>0</td>\n",
       "    </tr>\n",
       "    <tr>\n",
       "      <th>4</th>\n",
       "      <td>Household</td>\n",
       "      <td>Incredible Gifts India Wooden Happy Birthday U...</td>\n",
       "      <td>b\"\\x1f\\x8b\\x08\\x00C\\xbd\\xa3e\\x02\\xff]SKn\\x1b1\\...</td>\n",
       "      <td>0</td>\n",
       "    </tr>\n",
       "  </tbody>\n",
       "</table>\n",
       "</div>"
      ],
      "text/plain": [
       "  class_label                                               text  \\\n",
       "0   Household  Paper Plane Design Framed Wall Hanging Motivat...   \n",
       "1   Household  SAF 'Floral' Framed Painting (Wood, 30 inch x ...   \n",
       "2   Household  SAF 'UV Textured Modern Art Print Framed' Pain...   \n",
       "3   Household  SAF Flower Print Framed Painting (Synthetic, 1...   \n",
       "4   Household  Incredible Gifts India Wooden Happy Birthday U...   \n",
       "\n",
       "                                          text_bytes  class_label_idx  \n",
       "0  b'\\x1f\\x8b\\x08\\x00C\\xbd\\xa3e\\x02\\xff]T[\\x8e\\xd...                0  \n",
       "1  b'\\x1f\\x8b\\x08\\x00C\\xbd\\xa3e\\x02\\xffE\\x8f\\xddn...                0  \n",
       "2  b\"\\x1f\\x8b\\x08\\x00C\\xbd\\xa3e\\x02\\xff\\xadT\\xd1n...                0  \n",
       "3  b'\\x1f\\x8b\\x08\\x00C\\xbd\\xa3e\\x02\\xff\\xadTKn\\xd...                0  \n",
       "4  b\"\\x1f\\x8b\\x08\\x00C\\xbd\\xa3e\\x02\\xff]SKn\\x1b1\\...                0  "
      ]
     },
     "execution_count": 18,
     "metadata": {},
     "output_type": "execute_result"
    }
   ],
   "source": [
    "df_data.head(5)"
   ]
  },
  {
   "cell_type": "code",
   "execution_count": 26,
   "metadata": {},
   "outputs": [
    {
     "name": "stdout",
     "output_type": "stream",
     "text": [
      "Training size: 35296\n"
     ]
    },
    {
     "data": {
      "text/html": [
       "<div>\n",
       "<style scoped>\n",
       "    .dataframe tbody tr th:only-of-type {\n",
       "        vertical-align: middle;\n",
       "    }\n",
       "\n",
       "    .dataframe tbody tr th {\n",
       "        vertical-align: top;\n",
       "    }\n",
       "\n",
       "    .dataframe thead th {\n",
       "        text-align: right;\n",
       "    }\n",
       "</style>\n",
       "<table border=\"1\" class=\"dataframe\">\n",
       "  <thead>\n",
       "    <tr style=\"text-align: right;\">\n",
       "      <th></th>\n",
       "      <th>class_label</th>\n",
       "      <th>text</th>\n",
       "      <th>text_bytes</th>\n",
       "      <th>class_label_idx</th>\n",
       "    </tr>\n",
       "  </thead>\n",
       "  <tbody>\n",
       "    <tr>\n",
       "      <th>28379</th>\n",
       "      <td>Books</td>\n",
       "      <td>The Gene: An Intimate History About the Author...</td>\n",
       "      <td>b'\\x1f\\x8b\\x08\\x00D\\xbd\\xa3e\\x02\\xff]\\x93Q\\x96...</td>\n",
       "      <td>1</td>\n",
       "    </tr>\n",
       "    <tr>\n",
       "      <th>43872</th>\n",
       "      <td>Electronics</td>\n",
       "      <td>AmazonBasics USB 2.0 Cable - A-Male to B-Male ...</td>\n",
       "      <td>b\"\\x1f\\x8b\\x08\\x00E\\xbd\\xa3e\\x02\\xffm\\x8dA\\x0e...</td>\n",
       "      <td>3</td>\n",
       "    </tr>\n",
       "    <tr>\n",
       "      <th>10948</th>\n",
       "      <td>Household</td>\n",
       "      <td>Rena Germany Knife Sharpening Rod - Stainless ...</td>\n",
       "      <td>b'\\x1f\\x8b\\x08\\x00D\\xbd\\xa3e\\x02\\xffm\\x90Kn\\xc...</td>\n",
       "      <td>0</td>\n",
       "    </tr>\n",
       "    <tr>\n",
       "      <th>38129</th>\n",
       "      <td>Clothing &amp; Accessories</td>\n",
       "      <td>Carriwell Halter Neck Maternity Tankini Swimsu...</td>\n",
       "      <td>b\"\\x1f\\x8b\\x08\\x00E\\xbd\\xa3e\\x02\\xffU\\x90KN\\xc...</td>\n",
       "      <td>2</td>\n",
       "    </tr>\n",
       "    <tr>\n",
       "      <th>2063</th>\n",
       "      <td>Household</td>\n",
       "      <td>AMZ Exclusive Premium Quality Soft Rocking Cha...</td>\n",
       "      <td>b'\\x1f\\x8b\\x08\\x00C\\xbd\\xa3e\\x02\\xff\\xadUK\\x8e...</td>\n",
       "      <td>0</td>\n",
       "    </tr>\n",
       "  </tbody>\n",
       "</table>\n",
       "</div>"
      ],
      "text/plain": [
       "                  class_label  \\\n",
       "28379                   Books   \n",
       "43872             Electronics   \n",
       "10948               Household   \n",
       "38129  Clothing & Accessories   \n",
       "2063                Household   \n",
       "\n",
       "                                                    text  \\\n",
       "28379  The Gene: An Intimate History About the Author...   \n",
       "43872  AmazonBasics USB 2.0 Cable - A-Male to B-Male ...   \n",
       "10948  Rena Germany Knife Sharpening Rod - Stainless ...   \n",
       "38129  Carriwell Halter Neck Maternity Tankini Swimsu...   \n",
       "2063   AMZ Exclusive Premium Quality Soft Rocking Cha...   \n",
       "\n",
       "                                              text_bytes  class_label_idx  \n",
       "28379  b'\\x1f\\x8b\\x08\\x00D\\xbd\\xa3e\\x02\\xff]\\x93Q\\x96...                1  \n",
       "43872  b\"\\x1f\\x8b\\x08\\x00E\\xbd\\xa3e\\x02\\xffm\\x8dA\\x0e...                3  \n",
       "10948  b'\\x1f\\x8b\\x08\\x00D\\xbd\\xa3e\\x02\\xffm\\x90Kn\\xc...                0  \n",
       "38129  b\"\\x1f\\x8b\\x08\\x00E\\xbd\\xa3e\\x02\\xffU\\x90KN\\xc...                2  \n",
       "2063   b'\\x1f\\x8b\\x08\\x00C\\xbd\\xa3e\\x02\\xff\\xadUK\\x8e...                0  "
      ]
     },
     "metadata": {},
     "output_type": "display_data"
    },
    {
     "data": {
      "text/plain": [
       "class_label\n",
       "Books                      8274\n",
       "Clothing & Accessories     6069\n",
       "Electronics                7434\n",
       "Household                 13519\n",
       "dtype: int64"
      ]
     },
     "metadata": {},
     "output_type": "display_data"
    },
    {
     "name": "stdout",
     "output_type": "stream",
     "text": [
      "Testing size: 15128\n"
     ]
    },
    {
     "data": {
      "text/html": [
       "<div>\n",
       "<style scoped>\n",
       "    .dataframe tbody tr th:only-of-type {\n",
       "        vertical-align: middle;\n",
       "    }\n",
       "\n",
       "    .dataframe tbody tr th {\n",
       "        vertical-align: top;\n",
       "    }\n",
       "\n",
       "    .dataframe thead th {\n",
       "        text-align: right;\n",
       "    }\n",
       "</style>\n",
       "<table border=\"1\" class=\"dataframe\">\n",
       "  <thead>\n",
       "    <tr style=\"text-align: right;\">\n",
       "      <th></th>\n",
       "      <th>class_label</th>\n",
       "      <th>text</th>\n",
       "      <th>text_bytes</th>\n",
       "      <th>class_label_idx</th>\n",
       "    </tr>\n",
       "  </thead>\n",
       "  <tbody>\n",
       "    <tr>\n",
       "      <th>44119</th>\n",
       "      <td>Electronics</td>\n",
       "      <td>Cosmos â 10'' Diameter Heavy Duty 360 â Ro...</td>\n",
       "      <td>b\"\\x1f\\x8b\\x08\\x00E\\xbd\\xa3e\\x02\\xff\\xb5\\x8eA\\...</td>\n",
       "      <td>3</td>\n",
       "    </tr>\n",
       "    <tr>\n",
       "      <th>135</th>\n",
       "      <td>Household</td>\n",
       "      <td>M.G Enterprise Grey Mix 200 Gm Wool Ball Hand ...</td>\n",
       "      <td>b'\\x1f\\x8b\\x08\\x00C\\xbd\\xa3e\\x02\\xffE\\x90\\xc1n...</td>\n",
       "      <td>0</td>\n",
       "    </tr>\n",
       "    <tr>\n",
       "      <th>11346</th>\n",
       "      <td>Household</td>\n",
       "      <td>Embassy Stainless Steel Trivet/Table Ring, Rou...</td>\n",
       "      <td>b\"\\x1f\\x8b\\x08\\x00D\\xbd\\xa3e\\x02\\xffu\\x91QN\\xc...</td>\n",
       "      <td>0</td>\n",
       "    </tr>\n",
       "    <tr>\n",
       "      <th>46961</th>\n",
       "      <td>Electronics</td>\n",
       "      <td>Railway to the Point General Knowledge &amp; Gener...</td>\n",
       "      <td>b\"\\x1f\\x8b\\x08\\x00E\\xbd\\xa3e\\x02\\xff+J\\xcc\\xcc...</td>\n",
       "      <td>3</td>\n",
       "    </tr>\n",
       "    <tr>\n",
       "      <th>49156</th>\n",
       "      <td>Electronics</td>\n",
       "      <td>Mivi Conquer Wireless Bluetooth Earphones - Gu...</td>\n",
       "      <td>b'\\x1f\\x8b\\x08\\x00E\\xbd\\xa3e\\x02\\xff\\xb5TK\\x92...</td>\n",
       "      <td>3</td>\n",
       "    </tr>\n",
       "  </tbody>\n",
       "</table>\n",
       "</div>"
      ],
      "text/plain": [
       "       class_label                                               text  \\\n",
       "44119  Electronics  Cosmos â 10'' Diameter Heavy Duty 360 â Ro...   \n",
       "135      Household  M.G Enterprise Grey Mix 200 Gm Wool Ball Hand ...   \n",
       "11346    Household  Embassy Stainless Steel Trivet/Table Ring, Rou...   \n",
       "46961  Electronics  Railway to the Point General Knowledge & Gener...   \n",
       "49156  Electronics  Mivi Conquer Wireless Bluetooth Earphones - Gu...   \n",
       "\n",
       "                                              text_bytes  class_label_idx  \n",
       "44119  b\"\\x1f\\x8b\\x08\\x00E\\xbd\\xa3e\\x02\\xff\\xb5\\x8eA\\...                3  \n",
       "135    b'\\x1f\\x8b\\x08\\x00C\\xbd\\xa3e\\x02\\xffE\\x90\\xc1n...                0  \n",
       "11346  b\"\\x1f\\x8b\\x08\\x00D\\xbd\\xa3e\\x02\\xffu\\x91QN\\xc...                0  \n",
       "46961  b\"\\x1f\\x8b\\x08\\x00E\\xbd\\xa3e\\x02\\xff+J\\xcc\\xcc...                3  \n",
       "49156  b'\\x1f\\x8b\\x08\\x00E\\xbd\\xa3e\\x02\\xff\\xb5TK\\x92...                3  "
      ]
     },
     "metadata": {},
     "output_type": "display_data"
    },
    {
     "data": {
      "text/plain": [
       "class_label\n",
       "Books                     3546\n",
       "Clothing & Accessories    2601\n",
       "Electronics               3187\n",
       "Household                 5794\n",
       "dtype: int64"
      ]
     },
     "metadata": {},
     "output_type": "display_data"
    }
   ],
   "source": [
    "seed = 16021998\n",
    "\n",
    "df_train, df_test = train_test_split(df_data, test_size=0.3, stratify=df_data[\"class_label\"], random_state=seed)\n",
    "\n",
    "print(f\"Training size: {df_train.shape[0]}\")\n",
    "display(df_train.head(5))\n",
    "display(df_train.groupby(\"class_label\").size())\n",
    "\n",
    "print(f\"Testing size: {df_test.shape[0]}\")\n",
    "display(df_test.head(5))\n",
    "display(df_test.groupby(\"class_label\").size())"
   ]
  },
  {
   "cell_type": "code",
   "execution_count": 28,
   "metadata": {},
   "outputs": [],
   "source": [
    "clf = gkc.new(\n",
    "    df_train[\"text_bytes\"],\n",
    "    df_train[\"class_label_idx\"],\n",
    ")"
   ]
  },
  {
   "cell_type": "code",
   "execution_count": 29,
   "metadata": {},
   "outputs": [],
   "source": [
    "y_test = df_test[\"class_label_idx\"]\n",
    "y_preds = [pred.label for pred in gkc.classify_many(clf, df_test[\"text_bytes\"], 5)]"
   ]
  },
  {
   "cell_type": "code",
   "execution_count": 30,
   "metadata": {},
   "outputs": [
    {
     "data": {
      "text/plain": [
       "class_label_idx\n",
       "True     7947\n",
       "False    7181\n",
       "Name: count, dtype: int64"
      ]
     },
     "execution_count": 30,
     "metadata": {},
     "output_type": "execute_result"
    }
   ],
   "source": [
    "(y_test == y_preds).value_counts()"
   ]
  },
  {
   "cell_type": "code",
   "execution_count": null,
   "metadata": {},
   "outputs": [],
   "source": []
  }
 ],
 "metadata": {
  "kernelspec": {
   "display_name": "parameter_free_text_clf",
   "language": "python",
   "name": "python3"
  },
  "language_info": {
   "codemirror_mode": {
    "name": "ipython",
    "version": 3
   },
   "file_extension": ".py",
   "mimetype": "text/x-python",
   "name": "python",
   "nbconvert_exporter": "python",
   "pygments_lexer": "ipython3",
   "version": "3.8.18"
  },
  "orig_nbformat": 4
 },
 "nbformat": 4,
 "nbformat_minor": 2
}
