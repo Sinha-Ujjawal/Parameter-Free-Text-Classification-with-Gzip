{
 "cells": [
  {
   "cell_type": "code",
   "execution_count": 1,
   "metadata": {},
   "outputs": [],
   "source": [
    "import pandas as pd\n",
    "import gzip\n",
    "from sklearn.model_selection import train_test_split\n",
    "import gzip_knn_classifier as gkc\n",
    "# import gzip_knn_classifier_slow as gkc"
   ]
  },
  {
   "cell_type": "code",
   "execution_count": 2,
   "metadata": {},
   "outputs": [],
   "source": [
    "df_data = pd.read_csv(\n",
    "    \"./data/Medical Text Dataset -Cancer Doc Classification.csv\",\n",
    "    header=None,\n",
    "    skiprows=1,\n",
    "    encoding=\"iso-8859-1\",\n",
    ")"
   ]
  },
  {
   "cell_type": "code",
   "execution_count": 3,
   "metadata": {},
   "outputs": [
    {
     "data": {
      "text/plain": [
       "(7570, 3)"
      ]
     },
     "execution_count": 3,
     "metadata": {},
     "output_type": "execute_result"
    }
   ],
   "source": [
    "df_data.shape"
   ]
  },
  {
   "cell_type": "code",
   "execution_count": 4,
   "metadata": {},
   "outputs": [
    {
     "data": {
      "text/html": [
       "<div>\n",
       "<style scoped>\n",
       "    .dataframe tbody tr th:only-of-type {\n",
       "        vertical-align: middle;\n",
       "    }\n",
       "\n",
       "    .dataframe tbody tr th {\n",
       "        vertical-align: top;\n",
       "    }\n",
       "\n",
       "    .dataframe thead th {\n",
       "        text-align: right;\n",
       "    }\n",
       "</style>\n",
       "<table border=\"1\" class=\"dataframe\">\n",
       "  <thead>\n",
       "    <tr style=\"text-align: right;\">\n",
       "      <th></th>\n",
       "      <th>srno</th>\n",
       "      <th>class_label</th>\n",
       "      <th>research_paper_text</th>\n",
       "    </tr>\n",
       "  </thead>\n",
       "  <tbody>\n",
       "    <tr>\n",
       "      <th>0</th>\n",
       "      <td>0</td>\n",
       "      <td>Thyroid_Cancer</td>\n",
       "      <td>Thyroid surgery in  children in a single insti...</td>\n",
       "    </tr>\n",
       "    <tr>\n",
       "      <th>1</th>\n",
       "      <td>1</td>\n",
       "      <td>Thyroid_Cancer</td>\n",
       "      <td>\" The adopted strategy was the same as that us...</td>\n",
       "    </tr>\n",
       "    <tr>\n",
       "      <th>2</th>\n",
       "      <td>2</td>\n",
       "      <td>Thyroid_Cancer</td>\n",
       "      <td>coronary arterybypass grafting thrombosis ï¬b...</td>\n",
       "    </tr>\n",
       "    <tr>\n",
       "      <th>3</th>\n",
       "      <td>3</td>\n",
       "      <td>Thyroid_Cancer</td>\n",
       "      <td>Solitary plasmacytoma SP of the skull is an u...</td>\n",
       "    </tr>\n",
       "    <tr>\n",
       "      <th>4</th>\n",
       "      <td>4</td>\n",
       "      <td>Thyroid_Cancer</td>\n",
       "      <td>This study aimed to investigate serum matrix ...</td>\n",
       "    </tr>\n",
       "  </tbody>\n",
       "</table>\n",
       "</div>"
      ],
      "text/plain": [
       "   srno     class_label                                research_paper_text\n",
       "0     0  Thyroid_Cancer  Thyroid surgery in  children in a single insti...\n",
       "1     1  Thyroid_Cancer  \" The adopted strategy was the same as that us...\n",
       "2     2  Thyroid_Cancer  coronary arterybypass grafting thrombosis ï¬b...\n",
       "3     3  Thyroid_Cancer   Solitary plasmacytoma SP of the skull is an u...\n",
       "4     4  Thyroid_Cancer   This study aimed to investigate serum matrix ..."
      ]
     },
     "execution_count": 4,
     "metadata": {},
     "output_type": "execute_result"
    }
   ],
   "source": [
    "df_data.columns = [\"srno\", \"class_label\", \"research_paper_text\"]\n",
    "df_data.head(5)"
   ]
  },
  {
   "cell_type": "code",
   "execution_count": 5,
   "metadata": {},
   "outputs": [
    {
     "data": {
      "text/plain": [
       "class_label\n",
       "Colon_Cancer      2580\n",
       "Lung_Cancer       2180\n",
       "Thyroid_Cancer    2810\n",
       "dtype: int64"
      ]
     },
     "execution_count": 5,
     "metadata": {},
     "output_type": "execute_result"
    }
   ],
   "source": [
    "(\n",
    "    df_data\n",
    "    .groupby(\"class_label\")\n",
    "    .size()\n",
    ")"
   ]
  },
  {
   "cell_type": "code",
   "execution_count": 6,
   "metadata": {},
   "outputs": [],
   "source": [
    "df_data[\"research_paper_text_bytes\"] = (\n",
    "    df_data[\"research_paper_text\"]\n",
    "    .str.strip()\n",
    "    .str.lower()\n",
    "    .str.encode(\"iso-8859-1\")\n",
    "    .apply(gzip.compress)\n",
    ")"
   ]
  },
  {
   "cell_type": "code",
   "execution_count": 7,
   "metadata": {},
   "outputs": [],
   "source": [
    "class_labels_to_idx = {\n",
    "    class_label: idx\n",
    "    for idx, class_label in enumerate(df_data[\"class_label\"].unique())\n",
    "}\n",
    "\n",
    "idx_to_class_label = {\n",
    "    idx: class_label\n",
    "    for class_label, idx in class_labels_to_idx.items()\n",
    "}\n",
    "\n",
    "df_data[\"class_label_idx\"] = df_data[\"class_label\"].apply(class_labels_to_idx.get)"
   ]
  },
  {
   "cell_type": "code",
   "execution_count": 8,
   "metadata": {},
   "outputs": [
    {
     "data": {
      "text/html": [
       "<div>\n",
       "<style scoped>\n",
       "    .dataframe tbody tr th:only-of-type {\n",
       "        vertical-align: middle;\n",
       "    }\n",
       "\n",
       "    .dataframe tbody tr th {\n",
       "        vertical-align: top;\n",
       "    }\n",
       "\n",
       "    .dataframe thead th {\n",
       "        text-align: right;\n",
       "    }\n",
       "</style>\n",
       "<table border=\"1\" class=\"dataframe\">\n",
       "  <thead>\n",
       "    <tr style=\"text-align: right;\">\n",
       "      <th></th>\n",
       "      <th>srno</th>\n",
       "      <th>class_label</th>\n",
       "      <th>research_paper_text</th>\n",
       "      <th>research_paper_text_bytes</th>\n",
       "      <th>class_label_idx</th>\n",
       "    </tr>\n",
       "  </thead>\n",
       "  <tbody>\n",
       "    <tr>\n",
       "      <th>0</th>\n",
       "      <td>0</td>\n",
       "      <td>Thyroid_Cancer</td>\n",
       "      <td>Thyroid surgery in  children in a single insti...</td>\n",
       "      <td>b'\\x1f\\x8b\\x08\\x00\\xe0\\xbe\\xa3e\\x02\\xff\\xb5\\\\[...</td>\n",
       "      <td>0</td>\n",
       "    </tr>\n",
       "    <tr>\n",
       "      <th>1</th>\n",
       "      <td>1</td>\n",
       "      <td>Thyroid_Cancer</td>\n",
       "      <td>\" The adopted strategy was the same as that us...</td>\n",
       "      <td>b'\\x1f\\x8b\\x08\\x00\\xe0\\xbe\\xa3e\\x02\\xff\\xc5[K\\...</td>\n",
       "      <td>0</td>\n",
       "    </tr>\n",
       "    <tr>\n",
       "      <th>2</th>\n",
       "      <td>2</td>\n",
       "      <td>Thyroid_Cancer</td>\n",
       "      <td>coronary arterybypass grafting thrombosis ï¬b...</td>\n",
       "      <td>b'\\x1f\\x8b\\x08\\x00\\xe0\\xbe\\xa3e\\x02\\xff\\xad\\\\\\...</td>\n",
       "      <td>0</td>\n",
       "    </tr>\n",
       "    <tr>\n",
       "      <th>3</th>\n",
       "      <td>3</td>\n",
       "      <td>Thyroid_Cancer</td>\n",
       "      <td>Solitary plasmacytoma SP of the skull is an u...</td>\n",
       "      <td>b'\\x1f\\x8b\\x08\\x00\\xe0\\xbe\\xa3e\\x02\\xff\\xadZMz...</td>\n",
       "      <td>0</td>\n",
       "    </tr>\n",
       "    <tr>\n",
       "      <th>4</th>\n",
       "      <td>4</td>\n",
       "      <td>Thyroid_Cancer</td>\n",
       "      <td>This study aimed to investigate serum matrix ...</td>\n",
       "      <td>b'\\x1f\\x8b\\x08\\x00\\xe0\\xbe\\xa3e\\x02\\xff\\xad\\\\K...</td>\n",
       "      <td>0</td>\n",
       "    </tr>\n",
       "  </tbody>\n",
       "</table>\n",
       "</div>"
      ],
      "text/plain": [
       "   srno     class_label                                research_paper_text  \\\n",
       "0     0  Thyroid_Cancer  Thyroid surgery in  children in a single insti...   \n",
       "1     1  Thyroid_Cancer  \" The adopted strategy was the same as that us...   \n",
       "2     2  Thyroid_Cancer  coronary arterybypass grafting thrombosis ï¬b...   \n",
       "3     3  Thyroid_Cancer   Solitary plasmacytoma SP of the skull is an u...   \n",
       "4     4  Thyroid_Cancer   This study aimed to investigate serum matrix ...   \n",
       "\n",
       "                           research_paper_text_bytes  class_label_idx  \n",
       "0  b'\\x1f\\x8b\\x08\\x00\\xe0\\xbe\\xa3e\\x02\\xff\\xb5\\\\[...                0  \n",
       "1  b'\\x1f\\x8b\\x08\\x00\\xe0\\xbe\\xa3e\\x02\\xff\\xc5[K\\...                0  \n",
       "2  b'\\x1f\\x8b\\x08\\x00\\xe0\\xbe\\xa3e\\x02\\xff\\xad\\\\\\...                0  \n",
       "3  b'\\x1f\\x8b\\x08\\x00\\xe0\\xbe\\xa3e\\x02\\xff\\xadZMz...                0  \n",
       "4  b'\\x1f\\x8b\\x08\\x00\\xe0\\xbe\\xa3e\\x02\\xff\\xad\\\\K...                0  "
      ]
     },
     "execution_count": 8,
     "metadata": {},
     "output_type": "execute_result"
    }
   ],
   "source": [
    "df_data.head(5)"
   ]
  },
  {
   "cell_type": "code",
   "execution_count": 9,
   "metadata": {},
   "outputs": [
    {
     "name": "stdout",
     "output_type": "stream",
     "text": [
      "Training size: 5299\n"
     ]
    },
    {
     "data": {
      "text/html": [
       "<div>\n",
       "<style scoped>\n",
       "    .dataframe tbody tr th:only-of-type {\n",
       "        vertical-align: middle;\n",
       "    }\n",
       "\n",
       "    .dataframe tbody tr th {\n",
       "        vertical-align: top;\n",
       "    }\n",
       "\n",
       "    .dataframe thead th {\n",
       "        text-align: right;\n",
       "    }\n",
       "</style>\n",
       "<table border=\"1\" class=\"dataframe\">\n",
       "  <thead>\n",
       "    <tr style=\"text-align: right;\">\n",
       "      <th></th>\n",
       "      <th>srno</th>\n",
       "      <th>class_label</th>\n",
       "      <th>research_paper_text</th>\n",
       "      <th>research_paper_text_bytes</th>\n",
       "      <th>class_label_idx</th>\n",
       "    </tr>\n",
       "  </thead>\n",
       "  <tbody>\n",
       "    <tr>\n",
       "      <th>4946</th>\n",
       "      <td>4946</td>\n",
       "      <td>Colon_Cancer</td>\n",
       "      <td>sarscov2 has resulted in numerous cases of cor...</td>\n",
       "      <td>b'\\x1f\\x8b\\x08\\x00\\xe5\\xbe\\xa3e\\x02\\xff\\xed]\\x...</td>\n",
       "      <td>1</td>\n",
       "    </tr>\n",
       "    <tr>\n",
       "      <th>187</th>\n",
       "      <td>187</td>\n",
       "      <td>Thyroid_Cancer</td>\n",
       "      <td>EFSA for a scientiï¬c opinion on the risks fo...</td>\n",
       "      <td>b'\\x1f\\x8b\\x08\\x00\\xe0\\xbe\\xa3e\\x02\\xff\\xcd]m\\...</td>\n",
       "      <td>0</td>\n",
       "    </tr>\n",
       "    <tr>\n",
       "      <th>852</th>\n",
       "      <td>852</td>\n",
       "      <td>Lung_Cancer</td>\n",
       "      <td>\"30 These findings prompted us to investigate ...</td>\n",
       "      <td>b'\\x1f\\x8b\\x08\\x00\\xe1\\xbe\\xa3e\\x02\\xff\\x9dY\\x...</td>\n",
       "      <td>2</td>\n",
       "    </tr>\n",
       "    <tr>\n",
       "      <th>3251</th>\n",
       "      <td>3251</td>\n",
       "      <td>Thyroid_Cancer</td>\n",
       "      <td>\"Combination of thermally ablative focused ult...</td>\n",
       "      <td>b'\\x1f\\x8b\\x08\\x00\\xe3\\xbe\\xa3e\\x02\\xff\\xd5}[r...</td>\n",
       "      <td>0</td>\n",
       "    </tr>\n",
       "    <tr>\n",
       "      <th>519</th>\n",
       "      <td>519</td>\n",
       "      <td>Colon_Cancer</td>\n",
       "      <td>\"it is well understood that the level of molec...</td>\n",
       "      <td>b'\\x1f\\x8b\\x08\\x00\\xe1\\xbe\\xa3e\\x02\\xff\\xb5}K\\...</td>\n",
       "      <td>1</td>\n",
       "    </tr>\n",
       "  </tbody>\n",
       "</table>\n",
       "</div>"
      ],
      "text/plain": [
       "      srno     class_label                                research_paper_text  \\\n",
       "4946  4946    Colon_Cancer  sarscov2 has resulted in numerous cases of cor...   \n",
       "187    187  Thyroid_Cancer  EFSA for a scientiï¬c opinion on the risks fo...   \n",
       "852    852     Lung_Cancer  \"30 These findings prompted us to investigate ...   \n",
       "3251  3251  Thyroid_Cancer  \"Combination of thermally ablative focused ult...   \n",
       "519    519    Colon_Cancer  \"it is well understood that the level of molec...   \n",
       "\n",
       "                              research_paper_text_bytes  class_label_idx  \n",
       "4946  b'\\x1f\\x8b\\x08\\x00\\xe5\\xbe\\xa3e\\x02\\xff\\xed]\\x...                1  \n",
       "187   b'\\x1f\\x8b\\x08\\x00\\xe0\\xbe\\xa3e\\x02\\xff\\xcd]m\\...                0  \n",
       "852   b'\\x1f\\x8b\\x08\\x00\\xe1\\xbe\\xa3e\\x02\\xff\\x9dY\\x...                2  \n",
       "3251  b'\\x1f\\x8b\\x08\\x00\\xe3\\xbe\\xa3e\\x02\\xff\\xd5}[r...                0  \n",
       "519   b'\\x1f\\x8b\\x08\\x00\\xe1\\xbe\\xa3e\\x02\\xff\\xb5}K\\...                1  "
      ]
     },
     "metadata": {},
     "output_type": "display_data"
    },
    {
     "data": {
      "text/plain": [
       "class_label\n",
       "Colon_Cancer      1806\n",
       "Lung_Cancer       1526\n",
       "Thyroid_Cancer    1967\n",
       "dtype: int64"
      ]
     },
     "metadata": {},
     "output_type": "display_data"
    },
    {
     "name": "stdout",
     "output_type": "stream",
     "text": [
      "Testing size: 2271\n"
     ]
    },
    {
     "data": {
      "text/html": [
       "<div>\n",
       "<style scoped>\n",
       "    .dataframe tbody tr th:only-of-type {\n",
       "        vertical-align: middle;\n",
       "    }\n",
       "\n",
       "    .dataframe tbody tr th {\n",
       "        vertical-align: top;\n",
       "    }\n",
       "\n",
       "    .dataframe thead th {\n",
       "        text-align: right;\n",
       "    }\n",
       "</style>\n",
       "<table border=\"1\" class=\"dataframe\">\n",
       "  <thead>\n",
       "    <tr style=\"text-align: right;\">\n",
       "      <th></th>\n",
       "      <th>srno</th>\n",
       "      <th>class_label</th>\n",
       "      <th>research_paper_text</th>\n",
       "      <th>research_paper_text_bytes</th>\n",
       "      <th>class_label_idx</th>\n",
       "    </tr>\n",
       "  </thead>\n",
       "  <tbody>\n",
       "    <tr>\n",
       "      <th>7481</th>\n",
       "      <td>7481</td>\n",
       "      <td>Colon_Cancer</td>\n",
       "      <td>four to nine percent of the sequences transcr...</td>\n",
       "      <td>b'\\x1f\\x8b\\x08\\x00\\xe7\\xbe\\xa3e\\x02\\xff\\xc5}\\x...</td>\n",
       "      <td>1</td>\n",
       "    </tr>\n",
       "    <tr>\n",
       "      <th>6971</th>\n",
       "      <td>6971</td>\n",
       "      <td>Lung_Cancer</td>\n",
       "      <td>\"of erythrocytes in systemic lupus erythematos...</td>\n",
       "      <td>b'\\x1f\\x8b\\x08\\x00\\xe6\\xbe\\xa3e\\x02\\xff\\xbd\\\\[...</td>\n",
       "      <td>2</td>\n",
       "    </tr>\n",
       "    <tr>\n",
       "      <th>5978</th>\n",
       "      <td>5978</td>\n",
       "      <td>Colon_Cancer</td>\n",
       "      <td>natural killer nk cells are innate lymphocytes...</td>\n",
       "      <td>b'\\x1f\\x8b\\x08\\x00\\xe6\\xbe\\xa3e\\x02\\xff\\xbd]Iz...</td>\n",
       "      <td>1</td>\n",
       "    </tr>\n",
       "    <tr>\n",
       "      <th>1364</th>\n",
       "      <td>1364</td>\n",
       "      <td>Colon_Cancer</td>\n",
       "      <td>\"  autism spectrum disorder asd is a developme...</td>\n",
       "      <td>b'\\x1f\\x8b\\x08\\x00\\xe1\\xbe\\xa3e\\x02\\xff\\xcd][\\...</td>\n",
       "      <td>1</td>\n",
       "    </tr>\n",
       "    <tr>\n",
       "      <th>4163</th>\n",
       "      <td>4163</td>\n",
       "      <td>Thyroid_Cancer</td>\n",
       "      <td>\"researchWhat are the implications of using in...</td>\n",
       "      <td>b'\\x1f\\x8b\\x08\\x00\\xe4\\xbe\\xa3e\\x02\\xff\\xed]Y\\...</td>\n",
       "      <td>0</td>\n",
       "    </tr>\n",
       "  </tbody>\n",
       "</table>\n",
       "</div>"
      ],
      "text/plain": [
       "      srno     class_label                                research_paper_text  \\\n",
       "7481  7481    Colon_Cancer  four to nine percent of the sequences transcr...   \n",
       "6971  6971     Lung_Cancer  \"of erythrocytes in systemic lupus erythematos...   \n",
       "5978  5978    Colon_Cancer  natural killer nk cells are innate lymphocytes...   \n",
       "1364  1364    Colon_Cancer  \"  autism spectrum disorder asd is a developme...   \n",
       "4163  4163  Thyroid_Cancer  \"researchWhat are the implications of using in...   \n",
       "\n",
       "                              research_paper_text_bytes  class_label_idx  \n",
       "7481  b'\\x1f\\x8b\\x08\\x00\\xe7\\xbe\\xa3e\\x02\\xff\\xc5}\\x...                1  \n",
       "6971  b'\\x1f\\x8b\\x08\\x00\\xe6\\xbe\\xa3e\\x02\\xff\\xbd\\\\[...                2  \n",
       "5978  b'\\x1f\\x8b\\x08\\x00\\xe6\\xbe\\xa3e\\x02\\xff\\xbd]Iz...                1  \n",
       "1364  b'\\x1f\\x8b\\x08\\x00\\xe1\\xbe\\xa3e\\x02\\xff\\xcd][\\...                1  \n",
       "4163  b'\\x1f\\x8b\\x08\\x00\\xe4\\xbe\\xa3e\\x02\\xff\\xed]Y\\...                0  "
      ]
     },
     "metadata": {},
     "output_type": "display_data"
    },
    {
     "data": {
      "text/plain": [
       "class_label\n",
       "Colon_Cancer      774\n",
       "Lung_Cancer       654\n",
       "Thyroid_Cancer    843\n",
       "dtype: int64"
      ]
     },
     "metadata": {},
     "output_type": "display_data"
    }
   ],
   "source": [
    "seed = 16021998\n",
    "\n",
    "df_train, df_test = train_test_split(df_data, test_size=0.3, stratify=df_data[\"class_label\"], random_state=seed)\n",
    "\n",
    "print(f\"Training size: {df_train.shape[0]}\")\n",
    "display(df_train.head(5))\n",
    "display(df_train.groupby(\"class_label\").size())\n",
    "\n",
    "print(f\"Testing size: {df_test.shape[0]}\")\n",
    "display(df_test.head(5))\n",
    "display(df_test.groupby(\"class_label\").size())"
   ]
  },
  {
   "cell_type": "code",
   "execution_count": 10,
   "metadata": {},
   "outputs": [],
   "source": [
    "clf = gkc.new(\n",
    "    df_train[\"research_paper_text_bytes\"],\n",
    "    df_train[\"class_label_idx\"],\n",
    ")"
   ]
  },
  {
   "cell_type": "code",
   "execution_count": 11,
   "metadata": {},
   "outputs": [],
   "source": [
    "y_test = df_test[\"class_label_idx\"]\n",
    "y_preds = [pred.label for pred in gkc.classify_many(clf, df_test[\"research_paper_text_bytes\"], 5)]"
   ]
  },
  {
   "cell_type": "code",
   "execution_count": 12,
   "metadata": {},
   "outputs": [
    {
     "data": {
      "text/plain": [
       "class_label_idx\n",
       "True     2055\n",
       "False     216\n",
       "Name: count, dtype: int64"
      ]
     },
     "execution_count": 12,
     "metadata": {},
     "output_type": "execute_result"
    }
   ],
   "source": [
    "(y_test == y_preds).value_counts()"
   ]
  },
  {
   "cell_type": "code",
   "execution_count": null,
   "metadata": {},
   "outputs": [],
   "source": []
  }
 ],
 "metadata": {
  "kernelspec": {
   "display_name": "parameter_free_text_clf",
   "language": "python",
   "name": "python3"
  },
  "language_info": {
   "codemirror_mode": {
    "name": "ipython",
    "version": 3
   },
   "file_extension": ".py",
   "mimetype": "text/x-python",
   "name": "python",
   "nbconvert_exporter": "python",
   "pygments_lexer": "ipython3",
   "version": "3.8.18"
  },
  "orig_nbformat": 4
 },
 "nbformat": 4,
 "nbformat_minor": 2
}
